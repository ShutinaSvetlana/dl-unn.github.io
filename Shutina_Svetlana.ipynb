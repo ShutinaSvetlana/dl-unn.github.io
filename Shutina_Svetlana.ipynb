{
 "cells": [
  {
   "cell_type": "markdown",
   "metadata": {},
   "source": [
    "# Shutina Svetlana 381906-2м"
   ]
  },
  {
   "cell_type": "markdown",
   "metadata": {},
   "source": [
    "# MNIST classification with kNN classifier"
   ]
  },
  {
   "cell_type": "code",
   "execution_count": 16,
   "metadata": {},
   "outputs": [],
   "source": [
    "import numpy as np\n",
    "import pandas as pd"
   ]
  },
  {
   "cell_type": "markdown",
   "metadata": {},
   "source": [
    "## 1. Load MNIST dataset and prepare data"
   ]
  },
  {
   "cell_type": "code",
   "execution_count": 17,
   "metadata": {},
   "outputs": [],
   "source": [
    "train_data = pd.read_csv(\"input/mnist_train.csv\")\n",
    "test_data = pd.read_csv(\"input/mnist_test.csv\")"
   ]
  },
  {
   "cell_type": "code",
   "execution_count": 18,
   "metadata": {},
   "outputs": [
    {
     "data": {
      "text/html": [
       "<div>\n",
       "<style scoped>\n",
       "    .dataframe tbody tr th:only-of-type {\n",
       "        vertical-align: middle;\n",
       "    }\n",
       "\n",
       "    .dataframe tbody tr th {\n",
       "        vertical-align: top;\n",
       "    }\n",
       "\n",
       "    .dataframe thead th {\n",
       "        text-align: right;\n",
       "    }\n",
       "</style>\n",
       "<table border=\"1\" class=\"dataframe\">\n",
       "  <thead>\n",
       "    <tr style=\"text-align: right;\">\n",
       "      <th></th>\n",
       "      <th>label</th>\n",
       "      <th>1x1</th>\n",
       "      <th>1x2</th>\n",
       "      <th>1x3</th>\n",
       "      <th>1x4</th>\n",
       "      <th>1x5</th>\n",
       "      <th>1x6</th>\n",
       "      <th>1x7</th>\n",
       "      <th>1x8</th>\n",
       "      <th>1x9</th>\n",
       "      <th>...</th>\n",
       "      <th>28x19</th>\n",
       "      <th>28x20</th>\n",
       "      <th>28x21</th>\n",
       "      <th>28x22</th>\n",
       "      <th>28x23</th>\n",
       "      <th>28x24</th>\n",
       "      <th>28x25</th>\n",
       "      <th>28x26</th>\n",
       "      <th>28x27</th>\n",
       "      <th>28x28</th>\n",
       "    </tr>\n",
       "  </thead>\n",
       "  <tbody>\n",
       "    <tr>\n",
       "      <th>0</th>\n",
       "      <td>5</td>\n",
       "      <td>0</td>\n",
       "      <td>0</td>\n",
       "      <td>0</td>\n",
       "      <td>0</td>\n",
       "      <td>0</td>\n",
       "      <td>0</td>\n",
       "      <td>0</td>\n",
       "      <td>0</td>\n",
       "      <td>0</td>\n",
       "      <td>...</td>\n",
       "      <td>0</td>\n",
       "      <td>0</td>\n",
       "      <td>0</td>\n",
       "      <td>0</td>\n",
       "      <td>0</td>\n",
       "      <td>0</td>\n",
       "      <td>0</td>\n",
       "      <td>0</td>\n",
       "      <td>0</td>\n",
       "      <td>0</td>\n",
       "    </tr>\n",
       "    <tr>\n",
       "      <th>1</th>\n",
       "      <td>0</td>\n",
       "      <td>0</td>\n",
       "      <td>0</td>\n",
       "      <td>0</td>\n",
       "      <td>0</td>\n",
       "      <td>0</td>\n",
       "      <td>0</td>\n",
       "      <td>0</td>\n",
       "      <td>0</td>\n",
       "      <td>0</td>\n",
       "      <td>...</td>\n",
       "      <td>0</td>\n",
       "      <td>0</td>\n",
       "      <td>0</td>\n",
       "      <td>0</td>\n",
       "      <td>0</td>\n",
       "      <td>0</td>\n",
       "      <td>0</td>\n",
       "      <td>0</td>\n",
       "      <td>0</td>\n",
       "      <td>0</td>\n",
       "    </tr>\n",
       "    <tr>\n",
       "      <th>2</th>\n",
       "      <td>4</td>\n",
       "      <td>0</td>\n",
       "      <td>0</td>\n",
       "      <td>0</td>\n",
       "      <td>0</td>\n",
       "      <td>0</td>\n",
       "      <td>0</td>\n",
       "      <td>0</td>\n",
       "      <td>0</td>\n",
       "      <td>0</td>\n",
       "      <td>...</td>\n",
       "      <td>0</td>\n",
       "      <td>0</td>\n",
       "      <td>0</td>\n",
       "      <td>0</td>\n",
       "      <td>0</td>\n",
       "      <td>0</td>\n",
       "      <td>0</td>\n",
       "      <td>0</td>\n",
       "      <td>0</td>\n",
       "      <td>0</td>\n",
       "    </tr>\n",
       "    <tr>\n",
       "      <th>3</th>\n",
       "      <td>1</td>\n",
       "      <td>0</td>\n",
       "      <td>0</td>\n",
       "      <td>0</td>\n",
       "      <td>0</td>\n",
       "      <td>0</td>\n",
       "      <td>0</td>\n",
       "      <td>0</td>\n",
       "      <td>0</td>\n",
       "      <td>0</td>\n",
       "      <td>...</td>\n",
       "      <td>0</td>\n",
       "      <td>0</td>\n",
       "      <td>0</td>\n",
       "      <td>0</td>\n",
       "      <td>0</td>\n",
       "      <td>0</td>\n",
       "      <td>0</td>\n",
       "      <td>0</td>\n",
       "      <td>0</td>\n",
       "      <td>0</td>\n",
       "    </tr>\n",
       "    <tr>\n",
       "      <th>4</th>\n",
       "      <td>9</td>\n",
       "      <td>0</td>\n",
       "      <td>0</td>\n",
       "      <td>0</td>\n",
       "      <td>0</td>\n",
       "      <td>0</td>\n",
       "      <td>0</td>\n",
       "      <td>0</td>\n",
       "      <td>0</td>\n",
       "      <td>0</td>\n",
       "      <td>...</td>\n",
       "      <td>0</td>\n",
       "      <td>0</td>\n",
       "      <td>0</td>\n",
       "      <td>0</td>\n",
       "      <td>0</td>\n",
       "      <td>0</td>\n",
       "      <td>0</td>\n",
       "      <td>0</td>\n",
       "      <td>0</td>\n",
       "      <td>0</td>\n",
       "    </tr>\n",
       "  </tbody>\n",
       "</table>\n",
       "<p>5 rows × 785 columns</p>\n",
       "</div>"
      ],
      "text/plain": [
       "   label  1x1  1x2  1x3  1x4  1x5  1x6  1x7  1x8  1x9  ...  28x19  28x20  \\\n",
       "0      5    0    0    0    0    0    0    0    0    0  ...      0      0   \n",
       "1      0    0    0    0    0    0    0    0    0    0  ...      0      0   \n",
       "2      4    0    0    0    0    0    0    0    0    0  ...      0      0   \n",
       "3      1    0    0    0    0    0    0    0    0    0  ...      0      0   \n",
       "4      9    0    0    0    0    0    0    0    0    0  ...      0      0   \n",
       "\n",
       "   28x21  28x22  28x23  28x24  28x25  28x26  28x27  28x28  \n",
       "0      0      0      0      0      0      0      0      0  \n",
       "1      0      0      0      0      0      0      0      0  \n",
       "2      0      0      0      0      0      0      0      0  \n",
       "3      0      0      0      0      0      0      0      0  \n",
       "4      0      0      0      0      0      0      0      0  \n",
       "\n",
       "[5 rows x 785 columns]"
      ]
     },
     "execution_count": 18,
     "metadata": {},
     "output_type": "execute_result"
    }
   ],
   "source": [
    "train_data.head()"
   ]
  },
  {
   "cell_type": "code",
   "execution_count": 19,
   "metadata": {},
   "outputs": [],
   "source": [
    "x_train, y_train = train_data.drop('label', axis=1).values.astype(\"uint8\"), train_data['label'].values.astype(\"uint8\")\n",
    "x_test, y_test = test_data.drop('label', axis=1).values.astype(\"uint8\"), test_data['label'].values.astype(\"uint8\")"
   ]
  },
  {
   "cell_type": "code",
   "execution_count": 20,
   "metadata": {},
   "outputs": [
    {
     "name": "stdout",
     "output_type": "stream",
     "text": [
      "training data points: 60000\n",
      "testing data points: 10000\n"
     ]
    }
   ],
   "source": [
    "print(\"training data points: {}\".format(len(x_train)))\n",
    "print(\"testing data points: {}\".format(len(x_test)))"
   ]
  },
  {
   "cell_type": "markdown",
   "metadata": {},
   "source": [
    "## 2. kNN classifier implementation"
   ]
  },
  {
   "cell_type": "code",
   "execution_count": 21,
   "metadata": {},
   "outputs": [],
   "source": [
    "import heapq\n",
    "from heapq import heappop\n",
    "from heapq import heappush\n",
    "from heapq import heappushpop"
   ]
  },
  {
   "cell_type": "code",
   "execution_count": 25,
   "metadata": {},
   "outputs": [],
   "source": [
    "def euclidean_dist(x, y):\n",
    "    return np.linalg.norm(x - y) "
   ]
  },
  {
   "cell_type": "code",
   "execution_count": 26,
   "metadata": {},
   "outputs": [],
   "source": [
    "class Node(object):\n",
    "    def __init__(self, coords=None, axis=None, left=None, right=None, data=None):\n",
    "        self.coords = coords\n",
    "        self.axis = axis\n",
    "        self.left = left\n",
    "        self.right = right\n",
    "        self.data = data\n",
    "\n",
    "    def __len__(self):\n",
    "        return len(self.coords)\n",
    "\n",
    "    def __getitem__(self, i):\n",
    "        return self.coords[i]\n",
    "\n",
    "    \n",
    "class KDTree:\n",
    "    def __init__(self, X, leaf_size=40, dist=euclidean_dist):\n",
    "        self.distance = dist\n",
    "        \n",
    "        def build_tree(X, idxs, axis=0):\n",
    "            \n",
    "            if X is None:\n",
    "                return None\n",
    "            \n",
    "            n = X.shape[0]\n",
    "            if n > leaf_size:\n",
    "                median_idx = n // 2\n",
    "                sort_idxs = np.argpartition(X[:,axis], median_idx)\n",
    "                X = X[sort_idxs]\n",
    "                idxs = idxs[sort_idxs]\n",
    "                node_point = X[median_idx]\n",
    "                next_axis = (axis + 1) % X.shape[1]\n",
    "\n",
    "                return Node(node_point, axis, build_tree(X[:median_idx], idxs[:median_idx], next_axis),\n",
    "                            build_tree(X[median_idx+1:], idxs[median_idx+1:], next_axis), idxs[median_idx])\n",
    "            return Node(data=(X,idxs))\n",
    "        \n",
    "        self.root = build_tree(X.copy(), np.arange(X.shape[0]))     \n",
    "\n",
    "    def k_nearest_neighbors(self, point, k):\n",
    "\n",
    "        bests = []      \n",
    "        \n",
    "        def search(node):\n",
    "            \n",
    "            if node is None:\n",
    "                return \n",
    "            # leaf\n",
    "            if node.coords is None:\n",
    "                for x, idx in zip(*node.data):\n",
    "                    dist = -self.distance(x, point)\n",
    "                    if len(bests) < k:\n",
    "                        heappush(bests, (dist, idx))\n",
    "                    elif dist > bests[0][0]:\n",
    "                        heappushpop(bests, (dist, idx))\n",
    "            # not leaf\n",
    "            else:\n",
    "                dist = -self.distance(node.coords, point)\n",
    "                if len(bests) < k:\n",
    "                    heappush(bests, (dist, node.data))\n",
    "                elif dist > bests[0][0]:\n",
    "                    heappushpop(bests, (dist, node.data)) \n",
    "                diff = point[node.axis] - node.coords[node.axis]\n",
    "                sides = (node.left, node.right) if diff < 0 else (node.right, node.left)\n",
    "                # closer side\n",
    "                search(sides[0])\n",
    "                # farther side\n",
    "                if -abs(diff) > bests[0][0]:\n",
    "                    search(sides[1])\n",
    "        \n",
    "        search(self.root)\n",
    "        idx_bests = []\n",
    "        while bests:\n",
    "            idx_bests = [heappop(bests)[1]] + idx_bests\n",
    "        return idx_bests    \n",
    "\n",
    "    def query(self, X, k=1):\n",
    "        return [self.k_nearest_neighbors(point,k) for point in X]"
   ]
  },
  {
   "cell_type": "code",
   "execution_count": 27,
   "metadata": {},
   "outputs": [],
   "source": [
    "class KNeighborsClassifier:\n",
    "    def __init__(self, n_neighbors=5, leaf_size=30, dist=euclidean_dist):\n",
    "        self.distance = dist\n",
    "        self.k = n_neighbors\n",
    "        self.leaf_size = leaf_size\n",
    "    \n",
    "    def fit(self, X, y):\n",
    "#         self.mean = np.mean(X, axis=0)\n",
    "#         self.std = np.std(X, axis=0)\n",
    "#         X = (X - self.mean) / self.std\n",
    "        \n",
    "        self.kdtree = KDTree(X, self.leaf_size, dist=self.distance)\n",
    "        self.labels = y\n",
    "        self.n_classes = np.unique(y).size\n",
    "        \n",
    "    def predict_proba(self, X):\n",
    "#         X = (X - self.mean) / self.std\n",
    "        predicted_probs = np.zeros(shape=(X.shape[0],self.n_classes))\n",
    "        for i, point in enumerate(X):\n",
    "            neighbors = self.kdtree.k_nearest_neighbors(point, self.k)\n",
    "            for neighbor in neighbors:\n",
    "                predicted_probs[i][self.labels[neighbor]] += 1\n",
    "        predicted_probs /= self.k\n",
    "        \n",
    "        return predicted_probs\n",
    "    \n",
    "    def predict(self, X):\n",
    "        return np.argmax(self.predict_proba(X), axis=1)"
   ]
  },
  {
   "cell_type": "markdown",
   "metadata": {},
   "source": [
    "## 3. Check correctness (compare with exist implementations)"
   ]
  },
  {
   "cell_type": "code",
   "execution_count": 28,
   "metadata": {},
   "outputs": [],
   "source": [
    "from sklearn.metrics import classification_report\n",
    "from sklearn.neighbors import KNeighborsClassifier as sklearn_KNNclassifier"
   ]
  },
  {
   "cell_type": "code",
   "execution_count": 29,
   "metadata": {},
   "outputs": [
    {
     "name": "stdout",
     "output_type": "stream",
     "text": [
      "training data points: 1212\n",
      "validation data points: 135\n",
      "testing data points: 450\n"
     ]
    }
   ],
   "source": [
    "import sklearn\n",
    "from sklearn import datasets\n",
    "if int((sklearn.__version__).split(\".\")[1]) < 18:\n",
    "    from sklearn.cross_validation import train_test_split\n",
    "else:\n",
    "    from sklearn.model_selection import train_test_split\n",
    "    \n",
    "mnist = datasets.load_digits()\n",
    " \n",
    "(trainData, testData, trainLabels, testLabels) = train_test_split(np.array(mnist.data),\n",
    "mnist.target, test_size=0.25, random_state=42)\n",
    " \n",
    "(trainData, valData, trainLabels, valLabels) = train_test_split(trainData, trainLabels,\n",
    "test_size=0.1, random_state=84)\n",
    " \n",
    "# show the sizes of each data split\n",
    "print(\"training data points: {}\".format(len(trainLabels)))\n",
    "print(\"validation data points: {}\".format(len(valLabels)))\n",
    "print(\"testing data points: {}\".format(len(testLabels)))"
   ]
  },
  {
   "cell_type": "code",
   "execution_count": 30,
   "metadata": {},
   "outputs": [
    {
     "name": "stdout",
     "output_type": "stream",
     "text": [
      "EVALUATION ON TESTING DATA\n",
      "              precision    recall  f1-score   support\n",
      "\n",
      "           0       0.98      0.99      0.99       980\n",
      "           1       0.97      0.99      0.98      1135\n",
      "           2       0.98      0.96      0.97      1032\n",
      "           3       0.96      0.96      0.96      1010\n",
      "           4       0.97      0.96      0.97       982\n",
      "           5       0.95      0.96      0.96       892\n",
      "           6       0.98      0.99      0.98       958\n",
      "           7       0.96      0.96      0.96      1028\n",
      "           8       0.98      0.94      0.96       974\n",
      "           9       0.96      0.96      0.96      1009\n",
      "\n",
      "    accuracy                           0.97     10000\n",
      "   macro avg       0.97      0.97      0.97     10000\n",
      "weighted avg       0.97      0.97      0.97     10000\n",
      "\n",
      "time:  861.0479180812836\n",
      "EVALUATION ON TESTING DATA\n",
      "              precision    recall  f1-score   support\n",
      "\n",
      "           0       1.00      0.48      0.64       980\n",
      "           1       0.15      1.00      0.27      1135\n",
      "           2       0.91      0.03      0.06      1032\n",
      "           3       0.94      0.11      0.20      1010\n",
      "           4       0.82      0.38      0.52       982\n",
      "           5       0.84      0.15      0.26       892\n",
      "           6       1.00      0.31      0.48       958\n",
      "           7       0.79      0.64      0.71      1028\n",
      "           8       1.00      0.01      0.03       974\n",
      "           9       0.95      0.27      0.42      1009\n",
      "\n",
      "    accuracy                           0.35     10000\n",
      "   macro avg       0.84      0.34      0.36     10000\n",
      "weighted avg       0.83      0.35      0.36     10000\n",
      "\n",
      "time:  11367.93018078804\n"
     ]
    }
   ],
   "source": [
    "import time\n",
    "s = time.time()\n",
    "model = sklearn_KNNclassifier(n_neighbors=1)\n",
    "model.fit(x_train, y_train)\n",
    "y_pred = model.predict(x_test)\n",
    " \n",
    "print(\"EVALUATION ON TESTING DATA\")\n",
    "print(classification_report(y_test, y_pred))\n",
    "print(\"time: \", time.time()-s)\n",
    "\n",
    "s = time.time()\n",
    "custom_model = KNeighborsClassifier(n_neighbors=10)\n",
    "custom_model.fit(x_train, y_train)\n",
    "y_pred2 = custom_model.predict(x_test)\n",
    "\n",
    "print(\"EVALUATION ON TESTING DATA\")\n",
    "print(classification_report(y_test, y_pred2))\n",
    "print(\"time: \", time.time()-s)"
   ]
  },
  {
   "cell_type": "markdown",
   "metadata": {},
   "source": [
    "## 4. Define features and distance functions"
   ]
  },
  {
   "cell_type": "code",
   "execution_count": 55,
   "metadata": {},
   "outputs": [],
   "source": [
    "from skimage import feature"
   ]
  },
  {
   "cell_type": "code",
   "execution_count": 76,
   "metadata": {},
   "outputs": [],
   "source": [
    "def getHOGFeature(images, orientations=9, pixelsPerCell=(4, 4), cellsPerBlock=(2, 2), block_norm='L2-Hys'):\n",
    "    features = []\n",
    "    for img in images:       \n",
    "        img = np.reshape(img,(28,28))        \n",
    "        hogFeature = feature.hog(img, orientations, pixelsPerCell, cellsPerBlock, block_norm) \n",
    "        features.append(hogFeature)\n",
    "    return np.array(features, dtype=np.float32)"
   ]
  },
  {
   "cell_type": "code",
   "execution_count": 77,
   "metadata": {},
   "outputs": [],
   "source": [
    "hogFeatures_train = getHOGFeature(x_train)\n",
    "hogFeatures_test = getHOGFeature(x_test)"
   ]
  },
  {
   "cell_type": "markdown",
   "metadata": {},
   "source": [
    "# distance"
   ]
  },
  {
   "cell_type": "code",
   "execution_count": 58,
   "metadata": {},
   "outputs": [],
   "source": [
    "import scipy"
   ]
  },
  {
   "cell_type": "code",
   "execution_count": 59,
   "metadata": {},
   "outputs": [],
   "source": [
    "def manhattan_dist(x, y):\n",
    "    return scipy.spatial.distance.cityblock(x,y)\n",
    "def cosine_dist(x, y):\n",
    "    return scipy.spatial.distance.cosine(x,y)"
   ]
  },
  {
   "cell_type": "markdown",
   "metadata": {},
   "source": [
    "## 5. Find hyper-parameters"
   ]
  },
  {
   "cell_type": "code",
   "execution_count": 60,
   "metadata": {},
   "outputs": [],
   "source": [
    "from itertools import product"
   ]
  },
  {
   "cell_type": "code",
   "execution_count": 61,
   "metadata": {},
   "outputs": [],
   "source": [
    "n_neighbors = [1, 2, 5, 10, 20]\n",
    "distance = [cosine_dist, manhattan_dist]\n",
    "params = [n_neighbors, distance]"
   ]
  },
  {
   "cell_type": "code",
   "execution_count": 51,
   "metadata": {},
   "outputs": [
    {
     "name": "stdout",
     "output_type": "stream",
     "text": [
      "n_neighbors=1  dist_function=cosine_dist       nmodel accuracy=0.3989\n",
      "time: 1.1e+02\n",
      "n_neighbors=1  dist_function=manhattan_dist    nmodel accuracy=0.2547\n",
      "time: 1e+01\n",
      "n_neighbors=2  dist_function=cosine_dist       nmodel accuracy=0.3785\n",
      "time: 5.1e+01\n",
      "n_neighbors=2  dist_function=manhattan_dist    nmodel accuracy=0.21\n",
      "time: 1.3e+01\n",
      "n_neighbors=5  dist_function=cosine_dist       nmodel accuracy=0.4758\n",
      "time: 2.9e+02\n",
      "n_neighbors=5  dist_function=manhattan_dist    nmodel accuracy=0.2162\n",
      "time: 6.6e+02\n",
      "n_neighbors=10 dist_function=cosine_dist       nmodel accuracy=0.5509\n",
      "time: 1.2e+02\n",
      "n_neighbors=10 dist_function=manhattan_dist    nmodel accuracy=0.2054\n",
      "time: 1.1e+01\n",
      "n_neighbors=20 dist_function=cosine_dist       nmodel accuracy=0.5947\n",
      "time: 4.4e+02\n",
      "n_neighbors=20 dist_function=manhattan_dist    nmodel accuracy=0.1656\n",
      "time: 2.4e+01\n"
     ]
    }
   ],
   "source": [
    "def get_accuracy(y_pred, y_true):\n",
    "    t = y_true[y_true == y_pred]\n",
    "    return t.size / y_true.size\n",
    "\n",
    "for n,dist in product(*params):\n",
    "    s = time.time()\n",
    "    custom_model = KNeighborsClassifier(n_neighbors=n, dist=dist)\n",
    "    custom_model.fit(x_train, y_train)\n",
    "    y_pred = custom_model.predict(x_test)\n",
    "    print(f'n_neighbors={n:<2} dist_function={dist.__name__:<14}\\\n",
    "    nmodel accuracy={get_accuracy(y_test, y_pred):.8}')\n",
    "    print(f'time: {time.time()-s:.2}')"
   ]
  },
  {
   "cell_type": "markdown",
   "metadata": {},
   "source": [
    "## 6. Results\n",
    "### The best model parameters:\n",
    "* k: 10\n",
    "* Distance function: cosine\n",
    "* Features: Raw\n",
    "\n",
    "### The best model test accuracy: 0.5947\n",
    "\n",
    "###  Why such model parameters are the best?\n",
    "Your answer..."
   ]
  },
  {
   "cell_type": "code",
   "execution_count": null,
   "metadata": {},
   "outputs": [],
   "source": []
  }
 ],
 "metadata": {
  "kernelspec": {
   "display_name": "Python 3",
   "language": "python",
   "name": "python3"
  }
 },
 "nbformat": 4,
 "nbformat_minor": 2
}
